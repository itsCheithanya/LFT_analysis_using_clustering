{
 "cells": [
  {
   "cell_type": "code",
   "execution_count": 1,
   "metadata": {},
   "outputs": [],
   "source": [
    "import pandas as pd\n",
    "import numpy as np\n",
    "import matplotlib.pyplot as plt\n",
    "from sklearn.cluster import KMeans\n",
    "from sklearn.preprocessing import StandardScaler\n",
    "from sklearn.cluster import Birch\n",
    "from sklearn.decomposition import PCA\n",
    "from mpl_toolkits import mplot3d\n",
    "from mpl_toolkits.mplot3d import Axes3D"
   ]
  },
  {
   "cell_type": "code",
   "execution_count": 238,
   "metadata": {},
   "outputs": [],
   "source": [
    "df=pd.read_excel('dataset.xlsx')"
   ]
  },
  {
   "cell_type": "code",
   "execution_count": 240,
   "metadata": {},
   "outputs": [],
   "source": [
    "df.drop(0,axis=0,inplace=True)\n"
   ]
  },
  {
   "cell_type": "code",
   "execution_count": 191,
   "metadata": {},
   "outputs": [
    {
     "data": {
      "text/html": [
       "<div>\n",
       "<style scoped>\n",
       "    .dataframe tbody tr th:only-of-type {\n",
       "        vertical-align: middle;\n",
       "    }\n",
       "\n",
       "    .dataframe tbody tr th {\n",
       "        vertical-align: top;\n",
       "    }\n",
       "\n",
       "    .dataframe thead th {\n",
       "        text-align: right;\n",
       "    }\n",
       "</style>\n",
       "<table border=\"1\" class=\"dataframe\">\n",
       "  <thead>\n",
       "    <tr style=\"text-align: right;\">\n",
       "      <th></th>\n",
       "      <th>Unique ID</th>\n",
       "      <th>Age</th>\n",
       "      <th>Gender</th>\n",
       "      <th>BCLOT</th>\n",
       "      <th>A/G RAT</th>\n",
       "      <th>DBIL</th>\n",
       "      <th>IBIL</th>\n",
       "      <th>TBIL</th>\n",
       "      <th>TGLO</th>\n",
       "      <th>TREP</th>\n",
       "      <th>ALB</th>\n",
       "      <th>GGT</th>\n",
       "      <th>SGOT</th>\n",
       "      <th>SGPT</th>\n",
       "      <th>ALKPO4</th>\n",
       "    </tr>\n",
       "  </thead>\n",
       "  <tbody>\n",
       "    <tr>\n",
       "      <th>1</th>\n",
       "      <td>1.0</td>\n",
       "      <td>73.0</td>\n",
       "      <td>M</td>\n",
       "      <td>358</td>\n",
       "      <td>1.15</td>\n",
       "      <td>0.4</td>\n",
       "      <td>0.8</td>\n",
       "      <td>1.2</td>\n",
       "      <td>3.4</td>\n",
       "      <td>7.3</td>\n",
       "      <td>3.9</td>\n",
       "      <td>25</td>\n",
       "      <td>26</td>\n",
       "      <td>32</td>\n",
       "      <td>58</td>\n",
       "    </tr>\n",
       "    <tr>\n",
       "      <th>2</th>\n",
       "      <td>2.0</td>\n",
       "      <td>22.0</td>\n",
       "      <td>M</td>\n",
       "      <td>172</td>\n",
       "      <td>1.85</td>\n",
       "      <td>0.42</td>\n",
       "      <td>0.68</td>\n",
       "      <td>1.1</td>\n",
       "      <td>2.42</td>\n",
       "      <td>6.9</td>\n",
       "      <td>4.48</td>\n",
       "      <td>20</td>\n",
       "      <td>27</td>\n",
       "      <td>30</td>\n",
       "      <td>61</td>\n",
       "    </tr>\n",
       "    <tr>\n",
       "      <th>3</th>\n",
       "      <td>3.0</td>\n",
       "      <td>36.0</td>\n",
       "      <td>F</td>\n",
       "      <td>166</td>\n",
       "      <td>1.48</td>\n",
       "      <td>0.11</td>\n",
       "      <td>0.2</td>\n",
       "      <td>0.31</td>\n",
       "      <td>2.82</td>\n",
       "      <td>7</td>\n",
       "      <td>4.18</td>\n",
       "      <td>16</td>\n",
       "      <td>28</td>\n",
       "      <td>36</td>\n",
       "      <td>97</td>\n",
       "    </tr>\n",
       "    <tr>\n",
       "      <th>4</th>\n",
       "      <td>4.0</td>\n",
       "      <td>52.0</td>\n",
       "      <td>F</td>\n",
       "      <td>213</td>\n",
       "      <td>1.26</td>\n",
       "      <td>0.3</td>\n",
       "      <td>0.3</td>\n",
       "      <td>0.6</td>\n",
       "      <td>3.5</td>\n",
       "      <td>7.9</td>\n",
       "      <td>4.4</td>\n",
       "      <td>16</td>\n",
       "      <td>20</td>\n",
       "      <td>28</td>\n",
       "      <td>89</td>\n",
       "    </tr>\n",
       "    <tr>\n",
       "      <th>5</th>\n",
       "      <td>5.0</td>\n",
       "      <td>35.0</td>\n",
       "      <td>F</td>\n",
       "      <td>187</td>\n",
       "      <td>1.24</td>\n",
       "      <td>0.11</td>\n",
       "      <td>0.17</td>\n",
       "      <td>0.28</td>\n",
       "      <td>3.48</td>\n",
       "      <td>7.8</td>\n",
       "      <td>4.32</td>\n",
       "      <td>39</td>\n",
       "      <td>20</td>\n",
       "      <td>18</td>\n",
       "      <td>105</td>\n",
       "    </tr>\n",
       "    <tr>\n",
       "      <th>...</th>\n",
       "      <td>...</td>\n",
       "      <td>...</td>\n",
       "      <td>...</td>\n",
       "      <td>...</td>\n",
       "      <td>...</td>\n",
       "      <td>...</td>\n",
       "      <td>...</td>\n",
       "      <td>...</td>\n",
       "      <td>...</td>\n",
       "      <td>...</td>\n",
       "      <td>...</td>\n",
       "      <td>...</td>\n",
       "      <td>...</td>\n",
       "      <td>...</td>\n",
       "      <td>...</td>\n",
       "    </tr>\n",
       "    <tr>\n",
       "      <th>331562</th>\n",
       "      <td>331564.0</td>\n",
       "      <td>60.0</td>\n",
       "      <td>F</td>\n",
       "      <td>142</td>\n",
       "      <td>1.62</td>\n",
       "      <td>0.17</td>\n",
       "      <td>0.36</td>\n",
       "      <td>0.53</td>\n",
       "      <td>2.6</td>\n",
       "      <td>6.8</td>\n",
       "      <td>4.2</td>\n",
       "      <td>20</td>\n",
       "      <td>21</td>\n",
       "      <td>22</td>\n",
       "      <td>69</td>\n",
       "    </tr>\n",
       "    <tr>\n",
       "      <th>331563</th>\n",
       "      <td>331565.0</td>\n",
       "      <td>27.0</td>\n",
       "      <td>M</td>\n",
       "      <td>166</td>\n",
       "      <td>1.36</td>\n",
       "      <td>0.34</td>\n",
       "      <td>0</td>\n",
       "      <td>0.34</td>\n",
       "      <td>3.9</td>\n",
       "      <td>9.2</td>\n",
       "      <td>5.3</td>\n",
       "      <td>164</td>\n",
       "      <td>37</td>\n",
       "      <td>39</td>\n",
       "      <td>123</td>\n",
       "    </tr>\n",
       "    <tr>\n",
       "      <th>331564</th>\n",
       "      <td>331566.0</td>\n",
       "      <td>42.0</td>\n",
       "      <td>F</td>\n",
       "      <td>219</td>\n",
       "      <td>1.41</td>\n",
       "      <td>0.1</td>\n",
       "      <td>0.24</td>\n",
       "      <td>0.34</td>\n",
       "      <td>2.94</td>\n",
       "      <td>7.1</td>\n",
       "      <td>4.16</td>\n",
       "      <td>25</td>\n",
       "      <td>40</td>\n",
       "      <td>60</td>\n",
       "      <td>65</td>\n",
       "    </tr>\n",
       "    <tr>\n",
       "      <th>331565</th>\n",
       "      <td>331567.0</td>\n",
       "      <td>74.0</td>\n",
       "      <td>M</td>\n",
       "      <td>148</td>\n",
       "      <td>2.63</td>\n",
       "      <td>0.28</td>\n",
       "      <td>0.34</td>\n",
       "      <td>0.62</td>\n",
       "      <td>1.68</td>\n",
       "      <td>6.1</td>\n",
       "      <td>4.42</td>\n",
       "      <td>55</td>\n",
       "      <td>27</td>\n",
       "      <td>24</td>\n",
       "      <td>45</td>\n",
       "    </tr>\n",
       "    <tr>\n",
       "      <th>331566</th>\n",
       "      <td>331568.0</td>\n",
       "      <td>28.0</td>\n",
       "      <td>F</td>\n",
       "      <td>186</td>\n",
       "      <td>1.79</td>\n",
       "      <td>0.1</td>\n",
       "      <td>0.22</td>\n",
       "      <td>0.32</td>\n",
       "      <td>2.4</td>\n",
       "      <td>6.7</td>\n",
       "      <td>4.3</td>\n",
       "      <td>25</td>\n",
       "      <td>27</td>\n",
       "      <td>22</td>\n",
       "      <td>53</td>\n",
       "    </tr>\n",
       "  </tbody>\n",
       "</table>\n",
       "<p>331566 rows × 15 columns</p>\n",
       "</div>"
      ],
      "text/plain": [
       "        Unique ID   Age Gender BCLOT A/G RAT  DBIL  IBIL  TBIL  TGLO TREP  \\\n",
       "1             1.0  73.0      M   358    1.15   0.4   0.8   1.2   3.4  7.3   \n",
       "2             2.0  22.0      M   172    1.85  0.42  0.68   1.1  2.42  6.9   \n",
       "3             3.0  36.0      F   166    1.48  0.11   0.2  0.31  2.82    7   \n",
       "4             4.0  52.0      F   213    1.26   0.3   0.3   0.6   3.5  7.9   \n",
       "5             5.0  35.0      F   187    1.24  0.11  0.17  0.28  3.48  7.8   \n",
       "...           ...   ...    ...   ...     ...   ...   ...   ...   ...  ...   \n",
       "331562   331564.0  60.0      F   142    1.62  0.17  0.36  0.53   2.6  6.8   \n",
       "331563   331565.0  27.0      M   166    1.36  0.34     0  0.34   3.9  9.2   \n",
       "331564   331566.0  42.0      F   219    1.41   0.1  0.24  0.34  2.94  7.1   \n",
       "331565   331567.0  74.0      M   148    2.63  0.28  0.34  0.62  1.68  6.1   \n",
       "331566   331568.0  28.0      F   186    1.79   0.1  0.22  0.32   2.4  6.7   \n",
       "\n",
       "         ALB  GGT SGOT SGPT ALKPO4  \n",
       "1        3.9   25   26   32     58  \n",
       "2       4.48   20   27   30     61  \n",
       "3       4.18   16   28   36     97  \n",
       "4        4.4   16   20   28     89  \n",
       "5       4.32   39   20   18    105  \n",
       "...      ...  ...  ...  ...    ...  \n",
       "331562   4.2   20   21   22     69  \n",
       "331563   5.3  164   37   39    123  \n",
       "331564  4.16   25   40   60     65  \n",
       "331565  4.42   55   27   24     45  \n",
       "331566   4.3   25   27   22     53  \n",
       "\n",
       "[331566 rows x 15 columns]"
      ]
     },
     "execution_count": 191,
     "metadata": {},
     "output_type": "execute_result"
    }
   ],
   "source": [
    "df"
   ]
  },
  {
   "cell_type": "code",
   "execution_count": 22,
   "metadata": {},
   "outputs": [
    {
     "data": {
      "text/plain": [
       "RangeIndex(start=1, stop=331567, step=1)"
      ]
     },
     "execution_count": 22,
     "metadata": {},
     "output_type": "execute_result"
    }
   ],
   "source": [
    "df.index"
   ]
  },
  {
   "cell_type": "code",
   "execution_count": 28,
   "metadata": {},
   "outputs": [
    {
     "data": {
      "text/plain": [
       "(array([ 3719.,  8053., 33409., 64617., 68804., 66259., 53715., 26216.,\n",
       "         6303.,   470.]),\n",
       " array([  0. ,  10.2,  20.4,  30.6,  40.8,  51. ,  61.2,  71.4,  81.6,\n",
       "         91.8, 102. ]),\n",
       " <BarContainer object of 10 artists>)"
      ]
     },
     "execution_count": 28,
     "metadata": {},
     "output_type": "execute_result"
    },
    {
     "data": {
      "image/png": "[encoded data removed]",
      "text/plain": [
       "<Figure size 640x480 with 1 Axes>"
      ]
     },
     "metadata": {},
     "output_type": "display_data"
    }
   ],
   "source": [
    "ages=df['Age'].to_numpy()\n",
    "plt.hist(ages)"
   ]
  },
  {
   "cell_type": "code",
   "execution_count": 30,
   "metadata": {},
   "outputs": [
    {
     "data": {
      "text/plain": [
       "<matplotlib.collections.PathCollection at 0x22f7941d510>"
      ]
     },
     "execution_count": 30,
     "metadata": {},
     "output_type": "execute_result"
    },
    {
     "data": {
      "image/png": "[encoded data removed]",
      "text/plain": [
       "<Figure size 640x480 with 1 Axes>"
      ]
     },
     "metadata": {},
     "output_type": "display_data"
    }
   ],
   "source": [
    "ag=df['A/G RAT'].to_numpy()\n",
    "plt.scatter(ages,ag)"
   ]
  },
  {
   "cell_type": "code",
   "execution_count": 75,
   "metadata": {},
   "outputs": [
    {
     "data": {
      "text/plain": [
       "Age        0\n",
       "BCLOT      0\n",
       "A/G RAT    0\n",
       "DBIL       0\n",
       "IBIL       0\n",
       "TBIL       0\n",
       "TGLO       0\n",
       "TREP       0\n",
       "ALB        0\n",
       "GGT        0\n",
       "SGOT       0\n",
       "SGPT       0\n",
       "ALKPO4     0\n",
       "dtype: int64"
      ]
     },
     "execution_count": 75,
     "metadata": {},
     "output_type": "execute_result"
    }
   ],
   "source": [
    "df.isnull().sum()"
   ]
  },
  {
   "cell_type": "code",
   "execution_count": 241,
   "metadata": {},
   "outputs": [],
   "source": [
    "df.drop(269653,axis=0,inplace=True)"
   ]
  },
  {
   "cell_type": "code",
   "execution_count": 242,
   "metadata": {},
   "outputs": [
    {
     "name": "stdout",
     "output_type": "stream",
     "text": [
      "327154\n"
     ]
    }
   ],
   "source": [
    "n=len(df.index)\n",
    "print(n)"
   ]
  },
  {
   "cell_type": "code",
   "execution_count": 36,
   "metadata": {},
   "outputs": [
    {
     "data": {
      "text/plain": [
       "73.0"
      ]
     },
     "execution_count": 36,
     "metadata": {},
     "output_type": "execute_result"
    }
   ],
   "source": [
    "df.iloc[0]['Age']"
   ]
  },
  {
   "cell_type": "code",
   "execution_count": 17,
   "metadata": {},
   "outputs": [],
   "source": [
    "def elbow(dpath,k_limit):\n",
    "    df=pd.read_excel(dpath)\n",
    "    df.drop(0,axis=0,inplace=True)\n",
    "    df.drop(['Gender'],axis=1,inplace=True)\n",
    "    #df.drop(269653,axis=0,inplace=True)\n",
    "    df.drop(['Age','DBIL','IBIL','TREP','A/G RAT'],axis=1,inplace=True)\n",
    "    scaled_df = StandardScaler().fit_transform(df)\n",
    "    kmeans_kwargs = {\n",
    "\"init\": \"random\",\n",
    "\"n_init\": 10,\n",
    "\"random_state\": 1,\n",
    "}\n",
    "\n",
    "#create list to hold SSE values for each k\n",
    "    sse = []\n",
    "    for k in range(1, k_limit):\n",
    "        kmeans = KMeans(n_clusters=k, **kmeans_kwargs)\n",
    "        kmeans.fit(scaled_df)\n",
    "        sse.append(kmeans.inertia_)\n",
    "\n",
    "    #visualize results\n",
    "    plt.plot(range(1, k_limit), sse)\n",
    "    plt.xticks(range(1, k_limit))\n",
    "    plt.xlabel(\"Number of Clusters\")\n",
    "    plt.ylabel(\"SSE\")\n",
    "    plt.show()"
   ]
  },
  {
   "cell_type": "code",
   "execution_count": 19,
   "metadata": {},
   "outputs": [
    {
     "data": {
      "image/png": "[encoded data removed]",
      "text/plain": [
       "<Figure size 640x480 with 1 Axes>"
      ]
     },
     "metadata": {},
     "output_type": "display_data"
    }
   ],
   "source": [
    "elbow('abnormals.xlsx',11)"
   ]
  }
 ],
 "metadata": {
  "kernelspec": {
   "display_name": "base",
   "language": "python",
   "name": "python3"
  },
  "language_info": {
   "codemirror_mode": {
    "name": "ipython",
    "version": 3
   },
   "file_extension": ".py",
   "mimetype": "text/x-python",
   "name": "python",
   "nbconvert_exporter": "python",
   "pygments_lexer": "ipython3",
   "version": "3.10.9"
  },
  "orig_nbformat": 4
 },
 "nbformat": 4,
 "nbformat_minor": 2
}
