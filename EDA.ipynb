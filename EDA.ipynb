{
 "cells": [
  {
   "cell_type": "code",
   "execution_count": 54,
   "metadata": {},
   "outputs": [],
   "source": [
    "import pandas as pd\n",
    "import matplotlib.pyplot as plt\n",
    "from sklearn.cluster import AgglomerativeClustering\n",
    "from scipy.cluster.hierarchy import dendrogram, linkage\n",
    "import numpy as np\n",
    "import scipy.cluster.hierarchy as sch\n",
    "from sklearn.preprocessing import StandardScaler\n",
    "import seaborn as sb\n",
    "from scipy.stats import f_oneway"
   ]
  },
  {
   "cell_type": "code",
   "execution_count": 62,
   "metadata": {},
   "outputs": [
    {
     "data": {
      "text/html": [
       "<div>\n",
       "<style scoped>\n",
       "    .dataframe tbody tr th:only-of-type {\n",
       "        vertical-align: middle;\n",
       "    }\n",
       "\n",
       "    .dataframe tbody tr th {\n",
       "        vertical-align: top;\n",
       "    }\n",
       "\n",
       "    .dataframe thead th {\n",
       "        text-align: right;\n",
       "    }\n",
       "</style>\n",
       "<table border=\"1\" class=\"dataframe\">\n",
       "  <thead>\n",
       "    <tr style=\"text-align: right;\">\n",
       "      <th></th>\n",
       "      <th>Unique ID</th>\n",
       "      <th>Age</th>\n",
       "      <th>Gender</th>\n",
       "      <th>BCLOT</th>\n",
       "      <th>A/G RAT</th>\n",
       "      <th>DBIL</th>\n",
       "      <th>IBIL</th>\n",
       "      <th>TBIL</th>\n",
       "      <th>TGLO</th>\n",
       "      <th>TREP</th>\n",
       "      <th>ALB</th>\n",
       "      <th>GGT</th>\n",
       "      <th>SGOT</th>\n",
       "      <th>SGPT</th>\n",
       "      <th>ALKPO4</th>\n",
       "    </tr>\n",
       "  </thead>\n",
       "  <tbody>\n",
       "    <tr>\n",
       "      <th>0</th>\n",
       "      <td>NaN</td>\n",
       "      <td>NaN</td>\n",
       "      <td>NaN</td>\n",
       "      <td>TOTAL CHOLESTEROL</td>\n",
       "      <td>ALBUMIN:GLOBULIN RATIO</td>\n",
       "      <td>DIRECT BILIRUBIN</td>\n",
       "      <td>INDIRECT BILIRUBIN</td>\n",
       "      <td>TOTAL BILIRUBIN</td>\n",
       "      <td>GLOBULIN</td>\n",
       "      <td>TOTAL PROTEINS</td>\n",
       "      <td>ALBUMIN (Colorimetric - BCG Dye binding)</td>\n",
       "      <td>GAMMA G.T</td>\n",
       "      <td>Aspartate Aminotransferase AST (S.G.O.T)</td>\n",
       "      <td>Alanine Aminotransferase ALT (S.G.P.T)</td>\n",
       "      <td>ALKALINE PHOSPHATASE</td>\n",
       "    </tr>\n",
       "    <tr>\n",
       "      <th>1</th>\n",
       "      <td>1.0</td>\n",
       "      <td>73.0</td>\n",
       "      <td>M</td>\n",
       "      <td>358</td>\n",
       "      <td>1.15</td>\n",
       "      <td>0.4</td>\n",
       "      <td>0.8</td>\n",
       "      <td>1.2</td>\n",
       "      <td>3.4</td>\n",
       "      <td>7.3</td>\n",
       "      <td>3.9</td>\n",
       "      <td>25</td>\n",
       "      <td>26</td>\n",
       "      <td>32</td>\n",
       "      <td>58</td>\n",
       "    </tr>\n",
       "    <tr>\n",
       "      <th>2</th>\n",
       "      <td>2.0</td>\n",
       "      <td>22.0</td>\n",
       "      <td>M</td>\n",
       "      <td>172</td>\n",
       "      <td>1.85</td>\n",
       "      <td>0.42</td>\n",
       "      <td>0.68</td>\n",
       "      <td>1.1</td>\n",
       "      <td>2.42</td>\n",
       "      <td>6.9</td>\n",
       "      <td>4.48</td>\n",
       "      <td>20</td>\n",
       "      <td>27</td>\n",
       "      <td>30</td>\n",
       "      <td>61</td>\n",
       "    </tr>\n",
       "    <tr>\n",
       "      <th>3</th>\n",
       "      <td>3.0</td>\n",
       "      <td>36.0</td>\n",
       "      <td>F</td>\n",
       "      <td>166</td>\n",
       "      <td>1.48</td>\n",
       "      <td>0.11</td>\n",
       "      <td>0.2</td>\n",
       "      <td>0.31</td>\n",
       "      <td>2.82</td>\n",
       "      <td>7</td>\n",
       "      <td>4.18</td>\n",
       "      <td>16</td>\n",
       "      <td>28</td>\n",
       "      <td>36</td>\n",
       "      <td>97</td>\n",
       "    </tr>\n",
       "    <tr>\n",
       "      <th>4</th>\n",
       "      <td>4.0</td>\n",
       "      <td>52.0</td>\n",
       "      <td>F</td>\n",
       "      <td>213</td>\n",
       "      <td>1.26</td>\n",
       "      <td>0.3</td>\n",
       "      <td>0.3</td>\n",
       "      <td>0.6</td>\n",
       "      <td>3.5</td>\n",
       "      <td>7.9</td>\n",
       "      <td>4.4</td>\n",
       "      <td>16</td>\n",
       "      <td>20</td>\n",
       "      <td>28</td>\n",
       "      <td>89</td>\n",
       "    </tr>\n",
       "  </tbody>\n",
       "</table>\n",
       "</div>"
      ],
      "text/plain": [
       "   Unique ID   Age Gender              BCLOT                 A/G RAT  \\\n",
       "0        NaN   NaN    NaN  TOTAL CHOLESTEROL  ALBUMIN:GLOBULIN RATIO   \n",
       "1        1.0  73.0      M                358                    1.15   \n",
       "2        2.0  22.0      M                172                    1.85   \n",
       "3        3.0  36.0      F                166                    1.48   \n",
       "4        4.0  52.0      F                213                    1.26   \n",
       "\n",
       "                DBIL                 IBIL              TBIL       TGLO  \\\n",
       "0  DIRECT BILIRUBIN   INDIRECT BILIRUBIN   TOTAL BILIRUBIN   GLOBULIN    \n",
       "1                0.4                  0.8               1.2        3.4   \n",
       "2               0.42                 0.68               1.1       2.42   \n",
       "3               0.11                  0.2              0.31       2.82   \n",
       "4                0.3                  0.3               0.6        3.5   \n",
       "\n",
       "             TREP                                       ALB         GGT  \\\n",
       "0  TOTAL PROTEINS  ALBUMIN (Colorimetric - BCG Dye binding)  GAMMA G.T    \n",
       "1             7.3                                       3.9          25   \n",
       "2             6.9                                      4.48          20   \n",
       "3               7                                      4.18          16   \n",
       "4             7.9                                       4.4          16   \n",
       "\n",
       "                                       SGOT  \\\n",
       "0  Aspartate Aminotransferase AST (S.G.O.T)   \n",
       "1                                        26   \n",
       "2                                        27   \n",
       "3                                        28   \n",
       "4                                        20   \n",
       "\n",
       "                                     SGPT                ALKPO4  \n",
       "0  Alanine Aminotransferase ALT (S.G.P.T)  ALKALINE PHOSPHATASE  \n",
       "1                                      32                    58  \n",
       "2                                      30                    61  \n",
       "3                                      36                    97  \n",
       "4                                      28                    89  "
      ]
     },
     "execution_count": 62,
     "metadata": {},
     "output_type": "execute_result"
    }
   ],
   "source": [
    "df = pd.read_excel(r'C:/Users/ankit/Aventus/Hackathon_Data - Anonymised- v2.xlsx')\n",
    "df.head()"
   ]
  },
  {
   "cell_type": "code",
   "execution_count": 63,
   "metadata": {},
   "outputs": [],
   "source": [
    "df.drop(0, inplace=True)"
   ]
  },
  {
   "cell_type": "code",
   "execution_count": 69,
   "metadata": {},
   "outputs": [
    {
     "data": {
      "text/html": [
       "<div>\n",
       "<style scoped>\n",
       "    .dataframe tbody tr th:only-of-type {\n",
       "        vertical-align: middle;\n",
       "    }\n",
       "\n",
       "    .dataframe tbody tr th {\n",
       "        vertical-align: top;\n",
       "    }\n",
       "\n",
       "    .dataframe thead th {\n",
       "        text-align: right;\n",
       "    }\n",
       "</style>\n",
       "<table border=\"1\" class=\"dataframe\">\n",
       "  <thead>\n",
       "    <tr style=\"text-align: right;\">\n",
       "      <th></th>\n",
       "      <th>Age</th>\n",
       "      <th>Gender</th>\n",
       "      <th>BCLOT</th>\n",
       "      <th>AGR</th>\n",
       "      <th>DBIL</th>\n",
       "      <th>IBIL</th>\n",
       "      <th>TBIL</th>\n",
       "      <th>TGLO</th>\n",
       "      <th>TREP</th>\n",
       "      <th>ALB</th>\n",
       "      <th>GGT</th>\n",
       "      <th>SGOT</th>\n",
       "      <th>SGPT</th>\n",
       "      <th>ALKPO4</th>\n",
       "    </tr>\n",
       "  </thead>\n",
       "  <tbody>\n",
       "    <tr>\n",
       "      <th>1</th>\n",
       "      <td>73.0</td>\n",
       "      <td>M</td>\n",
       "      <td>358</td>\n",
       "      <td>1.15</td>\n",
       "      <td>0.4</td>\n",
       "      <td>0.8</td>\n",
       "      <td>1.2</td>\n",
       "      <td>3.4</td>\n",
       "      <td>7.3</td>\n",
       "      <td>3.9</td>\n",
       "      <td>25</td>\n",
       "      <td>26</td>\n",
       "      <td>32</td>\n",
       "      <td>58</td>\n",
       "    </tr>\n",
       "    <tr>\n",
       "      <th>2</th>\n",
       "      <td>22.0</td>\n",
       "      <td>M</td>\n",
       "      <td>172</td>\n",
       "      <td>1.85</td>\n",
       "      <td>0.42</td>\n",
       "      <td>0.68</td>\n",
       "      <td>1.1</td>\n",
       "      <td>2.42</td>\n",
       "      <td>6.9</td>\n",
       "      <td>4.48</td>\n",
       "      <td>20</td>\n",
       "      <td>27</td>\n",
       "      <td>30</td>\n",
       "      <td>61</td>\n",
       "    </tr>\n",
       "    <tr>\n",
       "      <th>3</th>\n",
       "      <td>36.0</td>\n",
       "      <td>F</td>\n",
       "      <td>166</td>\n",
       "      <td>1.48</td>\n",
       "      <td>0.11</td>\n",
       "      <td>0.2</td>\n",
       "      <td>0.31</td>\n",
       "      <td>2.82</td>\n",
       "      <td>7</td>\n",
       "      <td>4.18</td>\n",
       "      <td>16</td>\n",
       "      <td>28</td>\n",
       "      <td>36</td>\n",
       "      <td>97</td>\n",
       "    </tr>\n",
       "    <tr>\n",
       "      <th>4</th>\n",
       "      <td>52.0</td>\n",
       "      <td>F</td>\n",
       "      <td>213</td>\n",
       "      <td>1.26</td>\n",
       "      <td>0.3</td>\n",
       "      <td>0.3</td>\n",
       "      <td>0.6</td>\n",
       "      <td>3.5</td>\n",
       "      <td>7.9</td>\n",
       "      <td>4.4</td>\n",
       "      <td>16</td>\n",
       "      <td>20</td>\n",
       "      <td>28</td>\n",
       "      <td>89</td>\n",
       "    </tr>\n",
       "    <tr>\n",
       "      <th>5</th>\n",
       "      <td>35.0</td>\n",
       "      <td>F</td>\n",
       "      <td>187</td>\n",
       "      <td>1.24</td>\n",
       "      <td>0.11</td>\n",
       "      <td>0.17</td>\n",
       "      <td>0.28</td>\n",
       "      <td>3.48</td>\n",
       "      <td>7.8</td>\n",
       "      <td>4.32</td>\n",
       "      <td>39</td>\n",
       "      <td>20</td>\n",
       "      <td>18</td>\n",
       "      <td>105</td>\n",
       "    </tr>\n",
       "  </tbody>\n",
       "</table>\n",
       "</div>"
      ],
      "text/plain": [
       "    Age Gender BCLOT   AGR  DBIL  IBIL  TBIL  TGLO TREP   ALB GGT SGOT SGPT  \\\n",
       "1  73.0      M   358  1.15   0.4   0.8   1.2   3.4  7.3   3.9  25   26   32   \n",
       "2  22.0      M   172  1.85  0.42  0.68   1.1  2.42  6.9  4.48  20   27   30   \n",
       "3  36.0      F   166  1.48  0.11   0.2  0.31  2.82    7  4.18  16   28   36   \n",
       "4  52.0      F   213  1.26   0.3   0.3   0.6   3.5  7.9   4.4  16   20   28   \n",
       "5  35.0      F   187  1.24  0.11  0.17  0.28  3.48  7.8  4.32  39   20   18   \n",
       "\n",
       "  ALKPO4  \n",
       "1     58  \n",
       "2     61  \n",
       "3     97  \n",
       "4     89  \n",
       "5    105  "
      ]
     },
     "execution_count": 69,
     "metadata": {},
     "output_type": "execute_result"
    }
   ],
   "source": [
    "df.drop(axis=1, columns='Unique ID', inplace=True)\n",
    "df.head()"
   ]
  },
  {
   "cell_type": "code",
   "execution_count": 65,
   "metadata": {},
   "outputs": [],
   "source": [
    "df.iloc[269652]\n",
    "df.drop(269653, inplace=True)"
   ]
  },
  {
   "cell_type": "code",
   "execution_count": 66,
   "metadata": {},
   "outputs": [
    {
     "data": {
      "text/plain": [
       "Unique ID    0\n",
       "Age          0\n",
       "Gender       0\n",
       "BCLOT        0\n",
       "A/G RAT      0\n",
       "DBIL         0\n",
       "IBIL         0\n",
       "TBIL         0\n",
       "TGLO         0\n",
       "TREP         0\n",
       "ALB          0\n",
       "GGT          0\n",
       "SGOT         0\n",
       "SGPT         0\n",
       "ALKPO4       0\n",
       "dtype: int64"
      ]
     },
     "execution_count": 66,
     "metadata": {},
     "output_type": "execute_result"
    }
   ],
   "source": [
    "df.isnull().sum()"
   ]
  },
  {
   "cell_type": "code",
   "execution_count": 67,
   "metadata": {},
   "outputs": [],
   "source": [
    "df.rename(columns = {'A/G RAT':'AGR'}, inplace = True)"
   ]
  },
  {
   "cell_type": "code",
   "execution_count": 70,
   "metadata": {},
   "outputs": [
    {
     "data": {
      "text/html": [
       "<div>\n",
       "<style scoped>\n",
       "    .dataframe tbody tr th:only-of-type {\n",
       "        vertical-align: middle;\n",
       "    }\n",
       "\n",
       "    .dataframe tbody tr th {\n",
       "        vertical-align: top;\n",
       "    }\n",
       "\n",
       "    .dataframe thead th {\n",
       "        text-align: right;\n",
       "    }\n",
       "</style>\n",
       "<table border=\"1\" class=\"dataframe\">\n",
       "  <thead>\n",
       "    <tr style=\"text-align: right;\">\n",
       "      <th></th>\n",
       "      <th>Age</th>\n",
       "      <th>Gender</th>\n",
       "      <th>BCLOT</th>\n",
       "      <th>AGR</th>\n",
       "      <th>DBIL</th>\n",
       "      <th>IBIL</th>\n",
       "      <th>TBIL</th>\n",
       "      <th>TGLO</th>\n",
       "      <th>TREP</th>\n",
       "      <th>ALB</th>\n",
       "      <th>GGT</th>\n",
       "      <th>SGOT</th>\n",
       "      <th>SGPT</th>\n",
       "      <th>ALKPO4</th>\n",
       "    </tr>\n",
       "  </thead>\n",
       "  <tbody>\n",
       "    <tr>\n",
       "      <th>1</th>\n",
       "      <td>73.0</td>\n",
       "      <td>M</td>\n",
       "      <td>358</td>\n",
       "      <td>1.15</td>\n",
       "      <td>0.4</td>\n",
       "      <td>0.8</td>\n",
       "      <td>1.2</td>\n",
       "      <td>3.4</td>\n",
       "      <td>7.3</td>\n",
       "      <td>3.9</td>\n",
       "      <td>25</td>\n",
       "      <td>26</td>\n",
       "      <td>32</td>\n",
       "      <td>58</td>\n",
       "    </tr>\n",
       "    <tr>\n",
       "      <th>2</th>\n",
       "      <td>22.0</td>\n",
       "      <td>M</td>\n",
       "      <td>172</td>\n",
       "      <td>1.85</td>\n",
       "      <td>0.42</td>\n",
       "      <td>0.68</td>\n",
       "      <td>1.1</td>\n",
       "      <td>2.42</td>\n",
       "      <td>6.9</td>\n",
       "      <td>4.48</td>\n",
       "      <td>20</td>\n",
       "      <td>27</td>\n",
       "      <td>30</td>\n",
       "      <td>61</td>\n",
       "    </tr>\n",
       "    <tr>\n",
       "      <th>3</th>\n",
       "      <td>36.0</td>\n",
       "      <td>F</td>\n",
       "      <td>166</td>\n",
       "      <td>1.48</td>\n",
       "      <td>0.11</td>\n",
       "      <td>0.2</td>\n",
       "      <td>0.31</td>\n",
       "      <td>2.82</td>\n",
       "      <td>7</td>\n",
       "      <td>4.18</td>\n",
       "      <td>16</td>\n",
       "      <td>28</td>\n",
       "      <td>36</td>\n",
       "      <td>97</td>\n",
       "    </tr>\n",
       "    <tr>\n",
       "      <th>4</th>\n",
       "      <td>52.0</td>\n",
       "      <td>F</td>\n",
       "      <td>213</td>\n",
       "      <td>1.26</td>\n",
       "      <td>0.3</td>\n",
       "      <td>0.3</td>\n",
       "      <td>0.6</td>\n",
       "      <td>3.5</td>\n",
       "      <td>7.9</td>\n",
       "      <td>4.4</td>\n",
       "      <td>16</td>\n",
       "      <td>20</td>\n",
       "      <td>28</td>\n",
       "      <td>89</td>\n",
       "    </tr>\n",
       "    <tr>\n",
       "      <th>5</th>\n",
       "      <td>35.0</td>\n",
       "      <td>F</td>\n",
       "      <td>187</td>\n",
       "      <td>1.24</td>\n",
       "      <td>0.11</td>\n",
       "      <td>0.17</td>\n",
       "      <td>0.28</td>\n",
       "      <td>3.48</td>\n",
       "      <td>7.8</td>\n",
       "      <td>4.32</td>\n",
       "      <td>39</td>\n",
       "      <td>20</td>\n",
       "      <td>18</td>\n",
       "      <td>105</td>\n",
       "    </tr>\n",
       "  </tbody>\n",
       "</table>\n",
       "</div>"
      ],
      "text/plain": [
       "    Age Gender BCLOT   AGR  DBIL  IBIL  TBIL  TGLO TREP   ALB GGT SGOT SGPT  \\\n",
       "1  73.0      M   358  1.15   0.4   0.8   1.2   3.4  7.3   3.9  25   26   32   \n",
       "2  22.0      M   172  1.85  0.42  0.68   1.1  2.42  6.9  4.48  20   27   30   \n",
       "3  36.0      F   166  1.48  0.11   0.2  0.31  2.82    7  4.18  16   28   36   \n",
       "4  52.0      F   213  1.26   0.3   0.3   0.6   3.5  7.9   4.4  16   20   28   \n",
       "5  35.0      F   187  1.24  0.11  0.17  0.28  3.48  7.8  4.32  39   20   18   \n",
       "\n",
       "  ALKPO4  \n",
       "1     58  \n",
       "2     61  \n",
       "3     97  \n",
       "4     89  \n",
       "5    105  "
      ]
     },
     "execution_count": 70,
     "metadata": {},
     "output_type": "execute_result"
    }
   ],
   "source": [
    "df.head()"
   ]
  },
  {
   "cell_type": "code",
   "execution_count": 6,
   "metadata": {},
   "outputs": [
    {
     "data": {
      "image/png": "[encoded data removed]",
      "text/plain": [
       "<Figure size 640x480 with 1 Axes>"
      ]
     },
     "metadata": {},
     "output_type": "display_data"
    }
   ],
   "source": [
    "y = list(df.Age)\n",
    "plt.boxplot(y)\n",
    "plt.show()"
   ]
  },
  {
   "cell_type": "code",
   "execution_count": 7,
   "metadata": {},
   "outputs": [
    {
     "name": "stdout",
     "output_type": "stream",
     "text": [
      "Unique ID    float64\n",
      "Age          float64\n",
      "Gender        object\n",
      "BCLOT         object\n",
      "A/G RAT       object\n",
      "DBIL          object\n",
      "IBIL          object\n",
      "TBIL          object\n",
      "TGLO          object\n",
      "TREP          object\n",
      "ALB           object\n",
      "GGT           object\n",
      "SGOT          object\n",
      "SGPT          object\n",
      "ALKPO4        object\n",
      "dtype: object\n"
     ]
    }
   ],
   "source": [
    "result=df.dtypes\n",
    "print(result)"
   ]
  },
  {
   "cell_type": "code",
   "execution_count": 104,
   "metadata": {},
   "outputs": [
    {
     "name": "stdout",
     "output_type": "stream",
     "text": [
      "Age       float64\n",
      "Gender     object\n",
      "BCLOT     float64\n",
      "AGR       float64\n",
      "DBIL      float64\n",
      "IBIL      float64\n",
      "TBIL      float64\n",
      "TGLO      float64\n",
      "TREP      float64\n",
      "ALB       float64\n",
      "GGT       float64\n",
      "SGOT      float64\n",
      "SGPT      float64\n",
      "ALKPO4    float64\n",
      "dtype: object\n"
     ]
    }
   ],
   "source": [
    "cols=['Age', 'BCLOT', 'AGR', 'DBIL', 'IBIL',\n",
    "       'TBIL', 'TGLO', 'TREP', 'ALB', 'GGT', 'SGOT', 'SGPT', 'ALKPO4']\n",
    "for col in cols:\n",
    "    df[col]= df[col].apply(pd.to_numeric)\n",
    "print(df.dtypes)"
   ]
  },
  {
   "cell_type": "code",
   "execution_count": 26,
   "metadata": {},
   "outputs": [
    {
     "data": {
      "text/plain": [
       "count    331565.000000\n",
       "mean        188.817710\n",
       "std          64.104912\n",
       "min           0.000000\n",
       "25%         150.000000\n",
       "50%         180.000000\n",
       "75%         213.000000\n",
       "max        1594.000000\n",
       "Name: BCLOT, dtype: float64"
      ]
     },
     "execution_count": 26,
     "metadata": {},
     "output_type": "execute_result"
    }
   ],
   "source": [
    "df['BCLOT'].describe()"
   ]
  },
  {
   "cell_type": "code",
   "execution_count": 48,
   "metadata": {},
   "outputs": [
    {
     "data": {
      "image/png": "[encoded data removed]",
      "text/plain": [
       "<Figure size 640x480 with 1 Axes>"
      ]
     },
     "metadata": {},
     "output_type": "display_data"
    }
   ],
   "source": [
    "y = list(df.ALB)\n",
    "plt.boxplot(y)  \n",
    "plt.show()"
   ]
  },
  {
   "cell_type": "code",
   "execution_count": 33,
   "metadata": {},
   "outputs": [
    {
     "data": {
      "text/plain": [
       "<AxesSubplot:>"
      ]
     },
     "execution_count": 33,
     "metadata": {},
     "output_type": "execute_result"
    },
    {
     "data": {
      "image/png": "[encoded data removed]",
      "text/plain": [
       "<Figure size 640x480 with 1 Axes>"
      ]
     },
     "metadata": {},
     "output_type": "display_data"
    }
   ],
   "source": [
    "sb.boxplot(data = df)"
   ]
  },
  {
   "cell_type": "code",
   "execution_count": 49,
   "metadata": {},
   "outputs": [
    {
     "name": "stderr",
     "output_type": "stream",
     "text": [
      "C:\\Users\\ankit\\AppData\\Local\\Temp\\ipykernel_5088\\1382066185.py:1: FutureWarning: The default value of numeric_only in DataFrame.corr is deprecated. In a future version, it will default to False. Select only valid columns or specify the value of numeric_only to silence this warning.\n",
      "  matrix = df.corr()\n"
     ]
    },
    {
     "name": "stdout",
     "output_type": "stream",
     "text": [
      "Correlation matrix is : \n",
      "             Age     BCLOT       AGR      DBIL      IBIL      TBIL      TGLO  \\\n",
      "Age     1.000000 -0.024098 -0.100791 -0.021354 -0.095070 -0.066213  0.033771   \n",
      "BCLOT  -0.024098  1.000000 -0.079890 -0.054302 -0.024787 -0.049258  0.185400   \n",
      "AGR    -0.100791 -0.079890  1.000000 -0.113423  0.039990 -0.053083 -0.752329   \n",
      "DBIL   -0.021354 -0.054302 -0.113423  1.000000  0.364803  0.859465  0.082927   \n",
      "IBIL   -0.095070 -0.024787  0.039990  0.364803  1.000000  0.787713 -0.031633   \n",
      "TBIL   -0.066213 -0.049258 -0.053083  0.859465  0.787713  1.000000  0.037411   \n",
      "TGLO    0.033771  0.185400 -0.752329  0.082927 -0.031633  0.037411  1.000000   \n",
      "TREP   -0.094159  0.255691 -0.251897 -0.101502 -0.053081 -0.096484  0.691812   \n",
      "ALB    -0.081226  0.384277  0.193599 -0.128059 -0.031388 -0.101911  0.025676   \n",
      "GGT    -0.015219  0.037089 -0.091620  0.263566  0.109662  0.234849  0.088136   \n",
      "SGOT   -0.058185 -0.040571 -0.035796  0.231162  0.088444  0.200951  0.012190   \n",
      "SGPT   -0.095726  0.005516 -0.019733  0.241126  0.079067  0.201755  0.013128   \n",
      "ALKPO4 -0.094258 -0.036019 -0.126239  0.257514  0.104562  0.227998  0.097288   \n",
      "\n",
      "            TREP       ALB       GGT      SGOT      SGPT    ALKPO4  \n",
      "Age    -0.094159 -0.081226 -0.015219 -0.058185 -0.095726 -0.094258  \n",
      "BCLOT   0.255691  0.384277  0.037089 -0.040571  0.005516 -0.036019  \n",
      "AGR    -0.251897  0.193599 -0.091620 -0.035796 -0.019733 -0.126239  \n",
      "DBIL   -0.101502 -0.128059  0.263566  0.231162  0.241126  0.257514  \n",
      "IBIL   -0.053081 -0.031388  0.109662  0.088444  0.079067  0.104562  \n",
      "TBIL   -0.096484 -0.101911  0.234849  0.200951  0.201755  0.227998  \n",
      "TGLO    0.691812  0.025676  0.088136  0.012190  0.013128  0.097288  \n",
      "TREP    1.000000  0.415341 -0.027525 -0.076403 -0.023982 -0.093097  \n",
      "ALB     0.415341  1.000000 -0.083455 -0.073868 -0.028497 -0.157277  \n",
      "GGT    -0.027525 -0.083455  1.000000  0.191491  0.211550  0.364553  \n",
      "SGOT   -0.076403 -0.073868  0.191491  1.000000  0.761977  0.155907  \n",
      "SGPT   -0.023982 -0.028497  0.211550  0.761977  1.000000  0.162638  \n",
      "ALKPO4 -0.093097 -0.157277  0.364553  0.155907  0.162638  1.000000  \n"
     ]
    }
   ],
   "source": [
    "matrix = df.corr()\n",
    "print(\"Correlation matrix is : \")\n",
    "print(matrix)\n"
   ]
  },
  {
   "cell_type": "code",
   "execution_count": 53,
   "metadata": {},
   "outputs": [
    {
     "data": {
      "text/plain": [
       "<matplotlib.collections.PathCollection at 0x1ed64fe8b20>"
      ]
     },
     "execution_count": 53,
     "metadata": {},
     "output_type": "execute_result"
    },
    {
     "data": {
      "image/png": "[encoded data removed]",
      "text/plain": [
       "<Figure size 640x480 with 1 Axes>"
      ]
     },
     "metadata": {},
     "output_type": "display_data"
    }
   ],
   "source": [
    "plt.scatter(df.AGR, df.TGLO)"
   ]
  },
  {
   "cell_type": "code",
   "execution_count": 118,
   "metadata": {},
   "outputs": [
    {
     "data": {
      "text/plain": [
       "count    331565.000000\n",
       "mean         31.498254\n",
       "std          86.230070\n",
       "min           0.000000\n",
       "25%          19.000000\n",
       "50%          23.000000\n",
       "75%          30.000000\n",
       "max        9889.500000\n",
       "Name: SGOT, dtype: float64"
      ]
     },
     "execution_count": 118,
     "metadata": {},
     "output_type": "execute_result"
    }
   ],
   "source": [
    "df.head()\n",
    "df['SGOT'].describe()"
   ]
  },
  {
   "cell_type": "code",
   "execution_count": 71,
   "metadata": {},
   "outputs": [
    {
     "name": "stderr",
     "output_type": "stream",
     "text": [
      "C:\\Users\\ankit\\AppData\\Local\\Temp\\ipykernel_5088\\3999611714.py:2: SettingWithCopyWarning: \n",
      "A value is trying to be set on a copy of a slice from a DataFrame\n",
      "\n",
      "See the caveats in the documentation: https://pandas.pydata.org/pandas-docs/stable/user_guide/indexing.html#returning-a-view-versus-a-copy\n",
      "  df1.drop(axis=1, columns='Gender', inplace=True)\n"
     ]
    },
    {
     "data": {
      "text/html": [
       "<div>\n",
       "<style scoped>\n",
       "    .dataframe tbody tr th:only-of-type {\n",
       "        vertical-align: middle;\n",
       "    }\n",
       "\n",
       "    .dataframe tbody tr th {\n",
       "        vertical-align: top;\n",
       "    }\n",
       "\n",
       "    .dataframe thead th {\n",
       "        text-align: right;\n",
       "    }\n",
       "</style>\n",
       "<table border=\"1\" class=\"dataframe\">\n",
       "  <thead>\n",
       "    <tr style=\"text-align: right;\">\n",
       "      <th></th>\n",
       "      <th>Age</th>\n",
       "      <th>BCLOT</th>\n",
       "      <th>AGR</th>\n",
       "      <th>DBIL</th>\n",
       "      <th>IBIL</th>\n",
       "      <th>TBIL</th>\n",
       "      <th>TGLO</th>\n",
       "      <th>TREP</th>\n",
       "      <th>ALB</th>\n",
       "      <th>GGT</th>\n",
       "      <th>SGOT</th>\n",
       "      <th>SGPT</th>\n",
       "      <th>ALKPO4</th>\n",
       "    </tr>\n",
       "  </thead>\n",
       "  <tbody>\n",
       "    <tr>\n",
       "      <th>1</th>\n",
       "      <td>73.0</td>\n",
       "      <td>358</td>\n",
       "      <td>1.15</td>\n",
       "      <td>0.4</td>\n",
       "      <td>0.8</td>\n",
       "      <td>1.2</td>\n",
       "      <td>3.4</td>\n",
       "      <td>7.3</td>\n",
       "      <td>3.9</td>\n",
       "      <td>25</td>\n",
       "      <td>26</td>\n",
       "      <td>32</td>\n",
       "      <td>58</td>\n",
       "    </tr>\n",
       "    <tr>\n",
       "      <th>2</th>\n",
       "      <td>22.0</td>\n",
       "      <td>172</td>\n",
       "      <td>1.85</td>\n",
       "      <td>0.42</td>\n",
       "      <td>0.68</td>\n",
       "      <td>1.1</td>\n",
       "      <td>2.42</td>\n",
       "      <td>6.9</td>\n",
       "      <td>4.48</td>\n",
       "      <td>20</td>\n",
       "      <td>27</td>\n",
       "      <td>30</td>\n",
       "      <td>61</td>\n",
       "    </tr>\n",
       "    <tr>\n",
       "      <th>7</th>\n",
       "      <td>68.0</td>\n",
       "      <td>216</td>\n",
       "      <td>1.24</td>\n",
       "      <td>0.17</td>\n",
       "      <td>0.38</td>\n",
       "      <td>0.55</td>\n",
       "      <td>3.27</td>\n",
       "      <td>7.31</td>\n",
       "      <td>4.04</td>\n",
       "      <td>60</td>\n",
       "      <td>71</td>\n",
       "      <td>56</td>\n",
       "      <td>77</td>\n",
       "    </tr>\n",
       "    <tr>\n",
       "      <th>8</th>\n",
       "      <td>33.0</td>\n",
       "      <td>140</td>\n",
       "      <td>1.66</td>\n",
       "      <td>0.19</td>\n",
       "      <td>0.45</td>\n",
       "      <td>0.64</td>\n",
       "      <td>2.59</td>\n",
       "      <td>6.88</td>\n",
       "      <td>4.29</td>\n",
       "      <td>13</td>\n",
       "      <td>21</td>\n",
       "      <td>40</td>\n",
       "      <td>100</td>\n",
       "    </tr>\n",
       "    <tr>\n",
       "      <th>9</th>\n",
       "      <td>65.0</td>\n",
       "      <td>174</td>\n",
       "      <td>1.58</td>\n",
       "      <td>0.17</td>\n",
       "      <td>0.36</td>\n",
       "      <td>0.53</td>\n",
       "      <td>2.5</td>\n",
       "      <td>6.46</td>\n",
       "      <td>3.96</td>\n",
       "      <td>13</td>\n",
       "      <td>17</td>\n",
       "      <td>14</td>\n",
       "      <td>139</td>\n",
       "    </tr>\n",
       "  </tbody>\n",
       "</table>\n",
       "</div>"
      ],
      "text/plain": [
       "    Age BCLOT   AGR  DBIL  IBIL  TBIL  TGLO  TREP   ALB GGT SGOT SGPT ALKPO4\n",
       "1  73.0   358  1.15   0.4   0.8   1.2   3.4   7.3   3.9  25   26   32     58\n",
       "2  22.0   172  1.85  0.42  0.68   1.1  2.42   6.9  4.48  20   27   30     61\n",
       "7  68.0   216  1.24  0.17  0.38  0.55  3.27  7.31  4.04  60   71   56     77\n",
       "8  33.0   140  1.66  0.19  0.45  0.64  2.59  6.88  4.29  13   21   40    100\n",
       "9  65.0   174  1.58  0.17  0.36  0.53   2.5  6.46  3.96  13   17   14    139"
      ]
     },
     "execution_count": 71,
     "metadata": {},
     "output_type": "execute_result"
    }
   ],
   "source": [
    "df1 = df[df['Gender'] == 'M']\n",
    "df1.drop(axis=1, columns='Gender', inplace=True)\n",
    "df1.head()"
   ]
  },
  {
   "cell_type": "code",
   "execution_count": 72,
   "metadata": {},
   "outputs": [
    {
     "name": "stderr",
     "output_type": "stream",
     "text": [
      "C:\\Users\\ankit\\AppData\\Local\\Temp\\ipykernel_5088\\1193654110.py:2: SettingWithCopyWarning: \n",
      "A value is trying to be set on a copy of a slice from a DataFrame\n",
      "\n",
      "See the caveats in the documentation: https://pandas.pydata.org/pandas-docs/stable/user_guide/indexing.html#returning-a-view-versus-a-copy\n",
      "  df2.drop(axis=1, columns='Gender', inplace=True)\n"
     ]
    },
    {
     "data": {
      "text/html": [
       "<div>\n",
       "<style scoped>\n",
       "    .dataframe tbody tr th:only-of-type {\n",
       "        vertical-align: middle;\n",
       "    }\n",
       "\n",
       "    .dataframe tbody tr th {\n",
       "        vertical-align: top;\n",
       "    }\n",
       "\n",
       "    .dataframe thead th {\n",
       "        text-align: right;\n",
       "    }\n",
       "</style>\n",
       "<table border=\"1\" class=\"dataframe\">\n",
       "  <thead>\n",
       "    <tr style=\"text-align: right;\">\n",
       "      <th></th>\n",
       "      <th>Age</th>\n",
       "      <th>BCLOT</th>\n",
       "      <th>AGR</th>\n",
       "      <th>DBIL</th>\n",
       "      <th>IBIL</th>\n",
       "      <th>TBIL</th>\n",
       "      <th>TGLO</th>\n",
       "      <th>TREP</th>\n",
       "      <th>ALB</th>\n",
       "      <th>GGT</th>\n",
       "      <th>SGOT</th>\n",
       "      <th>SGPT</th>\n",
       "      <th>ALKPO4</th>\n",
       "    </tr>\n",
       "  </thead>\n",
       "  <tbody>\n",
       "    <tr>\n",
       "      <th>3</th>\n",
       "      <td>36.0</td>\n",
       "      <td>166</td>\n",
       "      <td>1.48</td>\n",
       "      <td>0.11</td>\n",
       "      <td>0.2</td>\n",
       "      <td>0.31</td>\n",
       "      <td>2.82</td>\n",
       "      <td>7</td>\n",
       "      <td>4.18</td>\n",
       "      <td>16</td>\n",
       "      <td>28</td>\n",
       "      <td>36</td>\n",
       "      <td>97</td>\n",
       "    </tr>\n",
       "    <tr>\n",
       "      <th>4</th>\n",
       "      <td>52.0</td>\n",
       "      <td>213</td>\n",
       "      <td>1.26</td>\n",
       "      <td>0.3</td>\n",
       "      <td>0.3</td>\n",
       "      <td>0.6</td>\n",
       "      <td>3.5</td>\n",
       "      <td>7.9</td>\n",
       "      <td>4.4</td>\n",
       "      <td>16</td>\n",
       "      <td>20</td>\n",
       "      <td>28</td>\n",
       "      <td>89</td>\n",
       "    </tr>\n",
       "    <tr>\n",
       "      <th>5</th>\n",
       "      <td>35.0</td>\n",
       "      <td>187</td>\n",
       "      <td>1.24</td>\n",
       "      <td>0.11</td>\n",
       "      <td>0.17</td>\n",
       "      <td>0.28</td>\n",
       "      <td>3.48</td>\n",
       "      <td>7.8</td>\n",
       "      <td>4.32</td>\n",
       "      <td>39</td>\n",
       "      <td>20</td>\n",
       "      <td>18</td>\n",
       "      <td>105</td>\n",
       "    </tr>\n",
       "    <tr>\n",
       "      <th>6</th>\n",
       "      <td>54.0</td>\n",
       "      <td>207</td>\n",
       "      <td>1.36</td>\n",
       "      <td>0.18</td>\n",
       "      <td>0.35</td>\n",
       "      <td>0.53</td>\n",
       "      <td>3.14</td>\n",
       "      <td>7.41</td>\n",
       "      <td>4.27</td>\n",
       "      <td>32</td>\n",
       "      <td>47</td>\n",
       "      <td>56</td>\n",
       "      <td>90</td>\n",
       "    </tr>\n",
       "    <tr>\n",
       "      <th>12</th>\n",
       "      <td>47.0</td>\n",
       "      <td>182</td>\n",
       "      <td>1.24</td>\n",
       "      <td>0.11</td>\n",
       "      <td>0.21</td>\n",
       "      <td>0.32</td>\n",
       "      <td>3.3</td>\n",
       "      <td>7.4</td>\n",
       "      <td>4.1</td>\n",
       "      <td>11</td>\n",
       "      <td>21</td>\n",
       "      <td>14</td>\n",
       "      <td>57</td>\n",
       "    </tr>\n",
       "  </tbody>\n",
       "</table>\n",
       "</div>"
      ],
      "text/plain": [
       "     Age BCLOT   AGR  DBIL  IBIL  TBIL  TGLO  TREP   ALB GGT SGOT SGPT ALKPO4\n",
       "3   36.0   166  1.48  0.11   0.2  0.31  2.82     7  4.18  16   28   36     97\n",
       "4   52.0   213  1.26   0.3   0.3   0.6   3.5   7.9   4.4  16   20   28     89\n",
       "5   35.0   187  1.24  0.11  0.17  0.28  3.48   7.8  4.32  39   20   18    105\n",
       "6   54.0   207  1.36  0.18  0.35  0.53  3.14  7.41  4.27  32   47   56     90\n",
       "12  47.0   182  1.24  0.11  0.21  0.32   3.3   7.4   4.1  11   21   14     57"
      ]
     },
     "execution_count": 72,
     "metadata": {},
     "output_type": "execute_result"
    }
   ],
   "source": [
    "df2 = df[df['Gender'] == 'F']\n",
    "df2.drop(axis=1, columns='Gender', inplace=True)\n",
    "df2.head()"
   ]
  },
  {
   "cell_type": "code",
   "execution_count": 112,
   "metadata": {},
   "outputs": [
    {
     "name": "stderr",
     "output_type": "stream",
     "text": [
      "C:\\Users\\ankit\\AppData\\Local\\Temp\\ipykernel_5088\\1750479430.py:4: SettingWithCopyWarning: \n",
      "A value is trying to be set on a copy of a slice from a DataFrame.\n",
      "Try using .loc[row_indexer,col_indexer] = value instead\n",
      "\n",
      "See the caveats in the documentation: https://pandas.pydata.org/pandas-docs/stable/user_guide/indexing.html#returning-a-view-versus-a-copy\n",
      "  df1[col]= df1[col].apply(pd.to_numeric)\n",
      "C:\\Users\\ankit\\AppData\\Local\\Temp\\ipykernel_5088\\1750479430.py:5: SettingWithCopyWarning: \n",
      "A value is trying to be set on a copy of a slice from a DataFrame.\n",
      "Try using .loc[row_indexer,col_indexer] = value instead\n",
      "\n",
      "See the caveats in the documentation: https://pandas.pydata.org/pandas-docs/stable/user_guide/indexing.html#returning-a-view-versus-a-copy\n",
      "  df2[col]= df2[col].apply(pd.to_numeric)\n"
     ]
    },
    {
     "name": "stdout",
     "output_type": "stream",
     "text": [
      "Age       float64\n",
      "BCLOT     float64\n",
      "AGR       float64\n",
      "DBIL      float64\n",
      "IBIL      float64\n",
      "TBIL      float64\n",
      "TGLO      float64\n",
      "TREP      float64\n",
      "ALB       float64\n",
      "GGT       float64\n",
      "SGOT      float64\n",
      "SGPT      float64\n",
      "ALKPO4    float64\n",
      "dtype: object\n"
     ]
    }
   ],
   "source": [
    "cols=['Age', 'BCLOT', 'AGR', 'DBIL', 'IBIL',\n",
    "       'TBIL', 'TGLO', 'TREP', 'ALB', 'GGT', 'SGOT', 'SGPT', 'ALKPO4']\n",
    "for col in cols:\n",
    "    df1[col]= df1[col].apply(pd.to_numeric)\n",
    "    df2[col]= df2[col].apply(pd.to_numeric)\n",
    "\n",
    "df1_bclot=pd.DataFrame(df1['SGOT'])\n",
    "df2_bclot=pd.DataFrame(df2['SGOT'])\n",
    "print(df2.dtypes)"
   ]
  },
  {
   "cell_type": "code",
   "execution_count": 113,
   "metadata": {},
   "outputs": [
    {
     "name": "stdout",
     "output_type": "stream",
     "text": [
      "Age       float64\n",
      "BCLOT     float64\n",
      "AGR       float64\n",
      "DBIL      float64\n",
      "IBIL      float64\n",
      "TBIL      float64\n",
      "TGLO      float64\n",
      "TREP      float64\n",
      "ALB       float64\n",
      "GGT       float64\n",
      "SGOT      float64\n",
      "SGPT      float64\n",
      "ALKPO4    float64\n",
      "dtype: object\n"
     ]
    }
   ],
   "source": [
    "print(df1.dtypes)"
   ]
  },
  {
   "cell_type": "code",
   "execution_count": 115,
   "metadata": {},
   "outputs": [
    {
     "data": {
      "text/html": [
       "<div>\n",
       "<style scoped>\n",
       "    .dataframe tbody tr th:only-of-type {\n",
       "        vertical-align: middle;\n",
       "    }\n",
       "\n",
       "    .dataframe tbody tr th {\n",
       "        vertical-align: top;\n",
       "    }\n",
       "\n",
       "    .dataframe thead th {\n",
       "        text-align: right;\n",
       "    }\n",
       "</style>\n",
       "<table border=\"1\" class=\"dataframe\">\n",
       "  <thead>\n",
       "    <tr style=\"text-align: right;\">\n",
       "      <th></th>\n",
       "      <th>SGOT</th>\n",
       "    </tr>\n",
       "  </thead>\n",
       "  <tbody>\n",
       "    <tr>\n",
       "      <th>count</th>\n",
       "      <td>183607.000000</td>\n",
       "    </tr>\n",
       "    <tr>\n",
       "      <th>mean</th>\n",
       "      <td>34.035384</td>\n",
       "    </tr>\n",
       "    <tr>\n",
       "      <th>std</th>\n",
       "      <td>90.881141</td>\n",
       "    </tr>\n",
       "    <tr>\n",
       "      <th>min</th>\n",
       "      <td>0.000000</td>\n",
       "    </tr>\n",
       "    <tr>\n",
       "      <th>25%</th>\n",
       "      <td>20.000000</td>\n",
       "    </tr>\n",
       "    <tr>\n",
       "      <th>50%</th>\n",
       "      <td>25.000000</td>\n",
       "    </tr>\n",
       "    <tr>\n",
       "      <th>75%</th>\n",
       "      <td>33.000000</td>\n",
       "    </tr>\n",
       "    <tr>\n",
       "      <th>max</th>\n",
       "      <td>8626.200000</td>\n",
       "    </tr>\n",
       "  </tbody>\n",
       "</table>\n",
       "</div>"
      ],
      "text/plain": [
       "                SGOT\n",
       "count  183607.000000\n",
       "mean       34.035384\n",
       "std        90.881141\n",
       "min         0.000000\n",
       "25%        20.000000\n",
       "50%        25.000000\n",
       "75%        33.000000\n",
       "max      8626.200000"
      ]
     },
     "execution_count": 115,
     "metadata": {},
     "output_type": "execute_result"
    }
   ],
   "source": [
    "df1_bclot.describe()"
   ]
  },
  {
   "cell_type": "code",
   "execution_count": 116,
   "metadata": {},
   "outputs": [
    {
     "data": {
      "text/html": [
       "<div>\n",
       "<style scoped>\n",
       "    .dataframe tbody tr th:only-of-type {\n",
       "        vertical-align: middle;\n",
       "    }\n",
       "\n",
       "    .dataframe tbody tr th {\n",
       "        vertical-align: top;\n",
       "    }\n",
       "\n",
       "    .dataframe thead th {\n",
       "        text-align: right;\n",
       "    }\n",
       "</style>\n",
       "<table border=\"1\" class=\"dataframe\">\n",
       "  <thead>\n",
       "    <tr style=\"text-align: right;\">\n",
       "      <th></th>\n",
       "      <th>SGOT</th>\n",
       "    </tr>\n",
       "  </thead>\n",
       "  <tbody>\n",
       "    <tr>\n",
       "      <th>count</th>\n",
       "      <td>147958.000000</td>\n",
       "    </tr>\n",
       "    <tr>\n",
       "      <th>mean</th>\n",
       "      <td>28.349829</td>\n",
       "    </tr>\n",
       "    <tr>\n",
       "      <th>std</th>\n",
       "      <td>79.972125</td>\n",
       "    </tr>\n",
       "    <tr>\n",
       "      <th>min</th>\n",
       "      <td>0.000000</td>\n",
       "    </tr>\n",
       "    <tr>\n",
       "      <th>25%</th>\n",
       "      <td>17.000000</td>\n",
       "    </tr>\n",
       "    <tr>\n",
       "      <th>50%</th>\n",
       "      <td>21.000000</td>\n",
       "    </tr>\n",
       "    <tr>\n",
       "      <th>75%</th>\n",
       "      <td>27.000000</td>\n",
       "    </tr>\n",
       "    <tr>\n",
       "      <th>max</th>\n",
       "      <td>9889.500000</td>\n",
       "    </tr>\n",
       "  </tbody>\n",
       "</table>\n",
       "</div>"
      ],
      "text/plain": [
       "                SGOT\n",
       "count  147958.000000\n",
       "mean       28.349829\n",
       "std        79.972125\n",
       "min         0.000000\n",
       "25%        17.000000\n",
       "50%        21.000000\n",
       "75%        27.000000\n",
       "max      9889.500000"
      ]
     },
     "execution_count": 116,
     "metadata": {},
     "output_type": "execute_result"
    }
   ],
   "source": [
    "df2_bclot.describe()"
   ]
  },
  {
   "cell_type": "code",
   "execution_count": 119,
   "metadata": {},
   "outputs": [
    {
     "data": {
      "text/plain": [
       "F_onewayResult(statistic=array([356.57646108]), pvalue=array([1.72543348e-79]))"
      ]
     },
     "execution_count": 119,
     "metadata": {},
     "output_type": "execute_result"
    }
   ],
   "source": [
    "f_oneway(df1_bclot, df2_bclot)"
   ]
  },
  {
   "cell_type": "code",
   "execution_count": null,
   "metadata": {},
   "outputs": [],
   "source": []
  }
 ],
 "metadata": {
  "kernelspec": {
   "display_name": "base",
   "language": "python",
   "name": "python3"
  },
  "language_info": {
   "codemirror_mode": {
    "name": "ipython",
    "version": 3
   },
   "file_extension": ".py",
   "mimetype": "text/x-python",
   "name": "python",
   "nbconvert_exporter": "python",
   "pygments_lexer": "ipython3",
   "version": "3.10.9"
  },
  "orig_nbformat": 4
 },
 "nbformat": 4,
 "nbformat_minor": 2
}
