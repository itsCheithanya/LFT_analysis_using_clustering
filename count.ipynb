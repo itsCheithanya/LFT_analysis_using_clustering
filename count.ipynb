{
 "cells": [
  {
   "cell_type": "code",
   "execution_count": 126,
   "metadata": {},
   "outputs": [],
   "source": [
    "import pandas as pd\n",
    "import numpy as np\n",
    "import matplotlib.pyplot as plt\n",
    "from sklearn.cluster import KMeans\n",
    "from sklearn.preprocessing import StandardScaler\n",
    "from sklearn.cluster import Birch\n",
    "from sklearn.decomposition import PCA\n",
    "from mpl_toolkits import mplot3d\n",
    "from mpl_toolkits.mplot3d import Axes3D"
   ]
  },
  {
   "cell_type": "code",
   "execution_count": 128,
   "metadata": {},
   "outputs": [],
   "source": [
    "df=pd.read_excel('df0.xlsx')\n",
    "df.drop(0,axis=0,inplace=True)\n",
    "\n",
    "cols=[ 'Age', 'BCLOT', 'A/G RAT', 'DBIL', 'IBIL',\n",
    "       'TBIL', 'TGLO', 'TREP', 'ALB', 'GGT', 'SGOT', 'SGPT','ALKPO4']\n",
    "for col in cols:\n",
    "    df[col]= df[col].apply(pd.to_numeric)\n",
    "meanAge=df['Age'].mean()\n",
    "df['Age'].fillna(value=meanAge,inplace=True)"
   ]
  },
  {
   "cell_type": "code",
   "execution_count": 6,
   "metadata": {},
   "outputs": [
    {
     "data": {
      "text/plain": [
       "Age        float64\n",
       "Gender      object\n",
       "BCLOT      float64\n",
       "A/G RAT    float64\n",
       "DBIL       float64\n",
       "IBIL       float64\n",
       "TBIL       float64\n",
       "TGLO       float64\n",
       "TREP       float64\n",
       "ALB        float64\n",
       "GGT        float64\n",
       "SGOT       float64\n",
       "SGPT       float64\n",
       "ALKPO4     float64\n",
       "dtype: object"
      ]
     },
     "execution_count": 6,
     "metadata": {},
     "output_type": "execute_result"
    }
   ],
   "source": [
    "df.dtypes"
   ]
  },
  {
   "cell_type": "code",
   "execution_count": 129,
   "metadata": {},
   "outputs": [
    {
     "name": "stdout",
     "output_type": "stream",
     "text": [
      "327155\n"
     ]
    }
   ],
   "source": [
    "n=len(df.index)\n",
    "print(n)"
   ]
  },
  {
   "cell_type": "code",
   "execution_count": 130,
   "metadata": {},
   "outputs": [],
   "source": [
    "def checkGGT(gender,ggt):\n",
    "    if(gender=='M'):\n",
    "        if(ggt>=15 and ggt<=73):\n",
    "            return 0\n",
    "        else:\n",
    "            return 1\n",
    "    else:\n",
    "        if(ggt>=12 and ggt<=43):\n",
    "            return 0\n",
    "        else:\n",
    "            return 1"
   ]
  },
  {
   "cell_type": "code",
   "execution_count": 9,
   "metadata": {},
   "outputs": [],
   "source": [
    "def checkSGOT(gender,sgot):\n",
    "    if(gender=='M'):\n",
    "        if(sgot>=17 and sgot<=59):\n",
    "            return 0\n",
    "        else:\n",
    "            return 1\n",
    "    else:\n",
    "        if(sgot>=14 and sgot<=36):\n",
    "            return 0\n",
    "        else:\n",
    "            return 1"
   ]
  },
  {
   "cell_type": "code",
   "execution_count": 131,
   "metadata": {},
   "outputs": [],
   "source": [
    "def checkSGPT(gender,sgpt):\n",
    "    if(gender=='M'):\n",
    "        if(sgpt>=21 and sgpt<=72):\n",
    "            return 0\n",
    "        else:\n",
    "            return 1\n",
    "    else:\n",
    "        if(sgpt>=9 and sgpt<=53):\n",
    "            return 0\n",
    "        else:\n",
    "            return 1"
   ]
  },
  {
   "cell_type": "code",
   "execution_count": 132,
   "metadata": {},
   "outputs": [],
   "source": [
    "def checkTBIL(tbil):\n",
    "    \n",
    "        if(tbil>=0.3 and tbil<=1.2):\n",
    "            return 0\n",
    "        else:\n",
    "            return 1\n",
    "    "
   ]
  },
  {
   "cell_type": "code",
   "execution_count": 133,
   "metadata": {},
   "outputs": [],
   "source": [
    "def checkTGLO(tglo):\n",
    "    \n",
    "        if(tglo>=2.0 and tglo<=3.0):\n",
    "            return 0\n",
    "        else:\n",
    "            return 1\n",
    "    "
   ]
  },
  {
   "cell_type": "code",
   "execution_count": 134,
   "metadata": {},
   "outputs": [],
   "source": [
    "def checkTREP(trep):\n",
    "    \n",
    "        if(trep>=6.0 and trep<=8.5):\n",
    "            return 0\n",
    "        else:\n",
    "            return 1\n",
    "    "
   ]
  },
  {
   "cell_type": "code",
   "execution_count": 135,
   "metadata": {},
   "outputs": [],
   "source": [
    "def isAgrat(agrat):\n",
    "  if (agrat<1.5) or (agrat>2.5):\n",
    "    return 1\n",
    "  return 0\n",
    "\n",
    "def isAlb(alb):\n",
    "  if (alb<3.5) or (alb>5.2):\n",
    "    return 1\n",
    "  return 0\n",
    "\n",
    "def isBclot(bclot, age):\n",
    "  if (age<=18):\n",
    "    if (bclot<200):\n",
    "      return 0\n",
    "    return 1\n",
    "\n",
    "\n",
    "  else:\n",
    "    if (bclot < 240):\n",
    "      return 0\n",
    "    return 1\n",
    "\n",
    "def isDbil(dbil):\n",
    "  if (dbil<0) or (dbil>0.2):\n",
    "    return 1\n",
    "  return 0\n",
    "\n",
    "def isIbil(ibil):\n",
    "  if (ibil<0) or (ibil>0.8):\n",
    "    return 1\n",
    "  return 0\n",
    "\n",
    "def isAlk(alk, age, gender):\n",
    "  if (age<=20):\n",
    "    if (alk<54) or (alk>369):\n",
    "      return 1\n",
    "    return 0\n",
    "  elif(age<=60):\n",
    "    if(gender=='M'):\n",
    "      if (alk<53) or (alk>128):\n",
    "        return 1\n",
    "      return 0\n",
    "    else:\n",
    "      if (alk<42) or (alk>98):\n",
    "        return 1\n",
    "      return 0\n",
    "  else:\n",
    "    if(gender=='M'):\n",
    "      if (alk<56) or (alk>119):\n",
    "        return 1\n",
    "      return 0\n",
    "    else:\n",
    "      if (alk<53) or (alk>141):\n",
    "        return 1\n",
    "      return 0"
   ]
  },
  {
   "cell_type": "code",
   "execution_count": 136,
   "metadata": {},
   "outputs": [],
   "source": [
    "abnormal_count={'BCLOT':0,'A/G RAT':0,'DBIL':0,'IBIL':0,'TBIL':0,'TGLO':0,'TREP':0,'ALB':0,'GGT':0,'SGOT':0,'SGPT':0,'ALKPO4':0}"
   ]
  },
  {
   "cell_type": "code",
   "execution_count": 137,
   "metadata": {},
   "outputs": [],
   "source": [
    "def checkRow(i,arr_index,abnormal):\n",
    "    row=df.iloc[i]\n",
    "    age=row['Age']\n",
    "    gender=row['Gender']\n",
    "    bclot=row['BCLOT']\n",
    "    agr=row['A/G RAT']\n",
    "    dbil=row['DBIL']\n",
    "    ibil=row['IBIL']\n",
    "    tbil=row['TBIL']\n",
    "    tglo=row['TGLO']\n",
    "    trep=row['TREP']\n",
    "    alb=row['ALB']\n",
    "    ggt=row['GGT']\n",
    "    sgot=row['SGOT']\n",
    "    sgpt=row['SGPT']\n",
    "    alkpo4=row['ALKPO4']\n",
    "    \n",
    "    if(isBclot(bclot,age)==1):\n",
    "        abnormal_count['BCLOT']+=1\n",
    "        abnormal.append(1)\n",
    "        return 1\n",
    "    if(isAgrat(agr)==1):\n",
    "        abnormal_count['A/G RAT']+=1\n",
    "        abnormal.append(1)\n",
    "        return 1\n",
    "    if(isDbil(dbil)==1):\n",
    "        abnormal_count['DBIL']+=1\n",
    "        abnormal.append(1)\n",
    "        return 1\n",
    "    if(isIbil(ibil)==1):\n",
    "        abnormal_count['IBIL']+=1\n",
    "        abnormal.append(1)\n",
    "        return 1\n",
    "    if(checkTBIL(tbil)==1):\n",
    "        abnormal_count['TBIL']+=1\n",
    "        abnormal.append(1)\n",
    "        return 1\n",
    "    if(checkTGLO(tglo)==1):\n",
    "        abnormal_count['TGLO']+=1\n",
    "        abnormal.append(1)\n",
    "        return 1\n",
    "    if(checkTREP(trep)==1):  \n",
    "        abnormal_count['TREP']+=1\n",
    "        abnormal.append(1)\n",
    "        return 1\n",
    "    if(isAlb(alb)==1 ):\n",
    "        abnormal_count['ALB']+=1\n",
    "        abnormal.append(1)\n",
    "        return 1\n",
    "    if(checkGGT(gender,ggt)==1):\n",
    "        abnormal_count['GGT']+=1\n",
    "        abnormal.append(1)\n",
    "        return 1\n",
    "    if(checkSGOT(gender,sgot)==1):\n",
    "        abnormal_count['SGOT']+=1\n",
    "        abnormal.append(1)\n",
    "        return 1\n",
    "    if(checkSGPT(gender,sgpt)==1): \n",
    "        abnormal_count['SGPT']+=1\n",
    "        abnormal.append(1)\n",
    "        return 1\n",
    "    if(isAlk(alkpo4,age,gender)==1):\n",
    "        abnormal_count['ALKPO4']+=1\n",
    "        abnormal.append(1)\n",
    "        return 1\n",
    "    abnormal.append(0)\n",
    "    \n",
    "    "
   ]
  },
  {
   "cell_type": "code",
   "execution_count": 138,
   "metadata": {},
   "outputs": [],
   "source": [
    "abnormal=[]\n",
    "arr_index=-1\n",
    "n=len(df.index)\n",
    "for i in range(0,n):\n",
    "    checkRow(i,arr_index,abnormal)"
   ]
  },
  {
   "cell_type": "code",
   "execution_count": 142,
   "metadata": {},
   "outputs": [
    {
     "data": {
      "text/plain": [
       "282987"
      ]
     },
     "execution_count": 142,
     "metadata": {},
     "output_type": "execute_result"
    }
   ],
   "source": [
    "abnormal.count(1)"
   ]
  },
  {
   "cell_type": "code",
   "execution_count": 140,
   "metadata": {},
   "outputs": [
    {
     "name": "stdout",
     "output_type": "stream",
     "text": [
      "{'BCLOT': 43678, 'A/G RAT': 95807, 'DBIL': 95275, 'IBIL': 220, 'TBIL': 4196, 'TGLO': 5031, 'TREP': 722, 'ALB': 243, 'GGT': 14109, 'SGOT': 9678, 'SGPT': 5314, 'ALKPO4': 8714}\n"
     ]
    }
   ],
   "source": [
    "print(abnormal_count)"
   ]
  },
  {
   "cell_type": "code",
   "execution_count": 24,
   "metadata": {},
   "outputs": [
    {
     "data": {
      "text/plain": [
       "44168"
      ]
     },
     "execution_count": 24,
     "metadata": {},
     "output_type": "execute_result"
    }
   ],
   "source": [
    "abnormal.count(0)"
   ]
  },
  {
   "cell_type": "code",
   "execution_count": 34,
   "metadata": {},
   "outputs": [],
   "source": [
    "df_info=df_info.dropna()"
   ]
  },
  {
   "cell_type": "code",
   "execution_count": 35,
   "metadata": {},
   "outputs": [],
   "source": [
    "df_coded=df_info"
   ]
  },
  {
   "cell_type": "code",
   "execution_count": 36,
   "metadata": {},
   "outputs": [
    {
     "name": "stderr",
     "output_type": "stream",
     "text": [
      "C:\\Users\\delwy\\AppData\\Local\\Temp\\ipykernel_16144\\817448536.py:1: SettingWithCopyWarning: \n",
      "A value is trying to be set on a copy of a slice from a DataFrame\n",
      "\n",
      "See the caveats in the documentation: https://pandas.pydata.org/pandas-docs/stable/user_guide/indexing.html#returning-a-view-versus-a-copy\n",
      "  df_coded.drop(331566,axis=0,inplace=True)\n"
     ]
    }
   ],
   "source": [
    "df_coded.drop(331566,axis=0,inplace=True)"
   ]
  },
  {
   "cell_type": "code",
   "execution_count": 37,
   "metadata": {},
   "outputs": [
    {
     "data": {
      "text/html": [
       "<div>\n",
       "<style scoped>\n",
       "    .dataframe tbody tr th:only-of-type {\n",
       "        vertical-align: middle;\n",
       "    }\n",
       "\n",
       "    .dataframe tbody tr th {\n",
       "        vertical-align: top;\n",
       "    }\n",
       "\n",
       "    .dataframe thead th {\n",
       "        text-align: right;\n",
       "    }\n",
       "</style>\n",
       "<table border=\"1\" class=\"dataframe\">\n",
       "  <thead>\n",
       "    <tr style=\"text-align: right;\">\n",
       "      <th></th>\n",
       "      <th>Unique ID</th>\n",
       "      <th>Age</th>\n",
       "      <th>Gender</th>\n",
       "      <th>BCLOT</th>\n",
       "      <th>A/G RAT</th>\n",
       "      <th>DBIL</th>\n",
       "      <th>IBIL</th>\n",
       "      <th>TBIL</th>\n",
       "      <th>TGLO</th>\n",
       "      <th>TREP</th>\n",
       "      <th>ALB</th>\n",
       "      <th>GGT</th>\n",
       "      <th>SGOT</th>\n",
       "      <th>SGPT</th>\n",
       "      <th>ALKPO4</th>\n",
       "    </tr>\n",
       "  </thead>\n",
       "  <tbody>\n",
       "    <tr>\n",
       "      <th>1</th>\n",
       "      <td>1.0</td>\n",
       "      <td>73.0</td>\n",
       "      <td>M</td>\n",
       "      <td>358</td>\n",
       "      <td>1.15</td>\n",
       "      <td>0.4</td>\n",
       "      <td>0.8</td>\n",
       "      <td>1.2</td>\n",
       "      <td>3.4</td>\n",
       "      <td>7.3</td>\n",
       "      <td>3.9</td>\n",
       "      <td>25</td>\n",
       "      <td>26</td>\n",
       "      <td>32</td>\n",
       "      <td>58</td>\n",
       "    </tr>\n",
       "    <tr>\n",
       "      <th>2</th>\n",
       "      <td>2.0</td>\n",
       "      <td>22.0</td>\n",
       "      <td>M</td>\n",
       "      <td>172</td>\n",
       "      <td>1.85</td>\n",
       "      <td>0.42</td>\n",
       "      <td>0.68</td>\n",
       "      <td>1.1</td>\n",
       "      <td>2.42</td>\n",
       "      <td>6.9</td>\n",
       "      <td>4.48</td>\n",
       "      <td>20</td>\n",
       "      <td>27</td>\n",
       "      <td>30</td>\n",
       "      <td>61</td>\n",
       "    </tr>\n",
       "    <tr>\n",
       "      <th>3</th>\n",
       "      <td>3.0</td>\n",
       "      <td>36.0</td>\n",
       "      <td>F</td>\n",
       "      <td>166</td>\n",
       "      <td>1.48</td>\n",
       "      <td>0.11</td>\n",
       "      <td>0.2</td>\n",
       "      <td>0.31</td>\n",
       "      <td>2.82</td>\n",
       "      <td>7</td>\n",
       "      <td>4.18</td>\n",
       "      <td>16</td>\n",
       "      <td>28</td>\n",
       "      <td>36</td>\n",
       "      <td>97</td>\n",
       "    </tr>\n",
       "    <tr>\n",
       "      <th>4</th>\n",
       "      <td>4.0</td>\n",
       "      <td>52.0</td>\n",
       "      <td>F</td>\n",
       "      <td>213</td>\n",
       "      <td>1.26</td>\n",
       "      <td>0.3</td>\n",
       "      <td>0.3</td>\n",
       "      <td>0.6</td>\n",
       "      <td>3.5</td>\n",
       "      <td>7.9</td>\n",
       "      <td>4.4</td>\n",
       "      <td>16</td>\n",
       "      <td>20</td>\n",
       "      <td>28</td>\n",
       "      <td>89</td>\n",
       "    </tr>\n",
       "    <tr>\n",
       "      <th>5</th>\n",
       "      <td>5.0</td>\n",
       "      <td>35.0</td>\n",
       "      <td>F</td>\n",
       "      <td>187</td>\n",
       "      <td>1.24</td>\n",
       "      <td>0.11</td>\n",
       "      <td>0.17</td>\n",
       "      <td>0.28</td>\n",
       "      <td>3.48</td>\n",
       "      <td>7.8</td>\n",
       "      <td>4.32</td>\n",
       "      <td>39</td>\n",
       "      <td>20</td>\n",
       "      <td>18</td>\n",
       "      <td>105</td>\n",
       "    </tr>\n",
       "    <tr>\n",
       "      <th>...</th>\n",
       "      <td>...</td>\n",
       "      <td>...</td>\n",
       "      <td>...</td>\n",
       "      <td>...</td>\n",
       "      <td>...</td>\n",
       "      <td>...</td>\n",
       "      <td>...</td>\n",
       "      <td>...</td>\n",
       "      <td>...</td>\n",
       "      <td>...</td>\n",
       "      <td>...</td>\n",
       "      <td>...</td>\n",
       "      <td>...</td>\n",
       "      <td>...</td>\n",
       "      <td>...</td>\n",
       "    </tr>\n",
       "    <tr>\n",
       "      <th>331561</th>\n",
       "      <td>331563.0</td>\n",
       "      <td>38.0</td>\n",
       "      <td>M</td>\n",
       "      <td>206</td>\n",
       "      <td>1.75</td>\n",
       "      <td>0.2</td>\n",
       "      <td>0.47</td>\n",
       "      <td>0.67</td>\n",
       "      <td>2.36</td>\n",
       "      <td>6.5</td>\n",
       "      <td>4.14</td>\n",
       "      <td>46</td>\n",
       "      <td>22</td>\n",
       "      <td>50</td>\n",
       "      <td>98</td>\n",
       "    </tr>\n",
       "    <tr>\n",
       "      <th>331562</th>\n",
       "      <td>331564.0</td>\n",
       "      <td>60.0</td>\n",
       "      <td>F</td>\n",
       "      <td>142</td>\n",
       "      <td>1.62</td>\n",
       "      <td>0.17</td>\n",
       "      <td>0.36</td>\n",
       "      <td>0.53</td>\n",
       "      <td>2.6</td>\n",
       "      <td>6.8</td>\n",
       "      <td>4.2</td>\n",
       "      <td>20</td>\n",
       "      <td>21</td>\n",
       "      <td>22</td>\n",
       "      <td>69</td>\n",
       "    </tr>\n",
       "    <tr>\n",
       "      <th>331563</th>\n",
       "      <td>331565.0</td>\n",
       "      <td>27.0</td>\n",
       "      <td>M</td>\n",
       "      <td>166</td>\n",
       "      <td>1.36</td>\n",
       "      <td>0.34</td>\n",
       "      <td>0</td>\n",
       "      <td>0.34</td>\n",
       "      <td>3.9</td>\n",
       "      <td>9.2</td>\n",
       "      <td>5.3</td>\n",
       "      <td>164</td>\n",
       "      <td>37</td>\n",
       "      <td>39</td>\n",
       "      <td>123</td>\n",
       "    </tr>\n",
       "    <tr>\n",
       "      <th>331564</th>\n",
       "      <td>331566.0</td>\n",
       "      <td>42.0</td>\n",
       "      <td>F</td>\n",
       "      <td>219</td>\n",
       "      <td>1.41</td>\n",
       "      <td>0.1</td>\n",
       "      <td>0.24</td>\n",
       "      <td>0.34</td>\n",
       "      <td>2.94</td>\n",
       "      <td>7.1</td>\n",
       "      <td>4.16</td>\n",
       "      <td>25</td>\n",
       "      <td>40</td>\n",
       "      <td>60</td>\n",
       "      <td>65</td>\n",
       "    </tr>\n",
       "    <tr>\n",
       "      <th>331565</th>\n",
       "      <td>331567.0</td>\n",
       "      <td>74.0</td>\n",
       "      <td>M</td>\n",
       "      <td>148</td>\n",
       "      <td>2.63</td>\n",
       "      <td>0.28</td>\n",
       "      <td>0.34</td>\n",
       "      <td>0.62</td>\n",
       "      <td>1.68</td>\n",
       "      <td>6.1</td>\n",
       "      <td>4.42</td>\n",
       "      <td>55</td>\n",
       "      <td>27</td>\n",
       "      <td>24</td>\n",
       "      <td>45</td>\n",
       "    </tr>\n",
       "  </tbody>\n",
       "</table>\n",
       "<p>331564 rows × 15 columns</p>\n",
       "</div>"
      ],
      "text/plain": [
       "        Unique ID   Age Gender BCLOT A/G RAT  DBIL  IBIL  TBIL  TGLO TREP  \\\n",
       "1             1.0  73.0      M   358    1.15   0.4   0.8   1.2   3.4  7.3   \n",
       "2             2.0  22.0      M   172    1.85  0.42  0.68   1.1  2.42  6.9   \n",
       "3             3.0  36.0      F   166    1.48  0.11   0.2  0.31  2.82    7   \n",
       "4             4.0  52.0      F   213    1.26   0.3   0.3   0.6   3.5  7.9   \n",
       "5             5.0  35.0      F   187    1.24  0.11  0.17  0.28  3.48  7.8   \n",
       "...           ...   ...    ...   ...     ...   ...   ...   ...   ...  ...   \n",
       "331561   331563.0  38.0      M   206    1.75   0.2  0.47  0.67  2.36  6.5   \n",
       "331562   331564.0  60.0      F   142    1.62  0.17  0.36  0.53   2.6  6.8   \n",
       "331563   331565.0  27.0      M   166    1.36  0.34     0  0.34   3.9  9.2   \n",
       "331564   331566.0  42.0      F   219    1.41   0.1  0.24  0.34  2.94  7.1   \n",
       "331565   331567.0  74.0      M   148    2.63  0.28  0.34  0.62  1.68  6.1   \n",
       "\n",
       "         ALB  GGT SGOT SGPT ALKPO4  \n",
       "1        3.9   25   26   32     58  \n",
       "2       4.48   20   27   30     61  \n",
       "3       4.18   16   28   36     97  \n",
       "4        4.4   16   20   28     89  \n",
       "5       4.32   39   20   18    105  \n",
       "...      ...  ...  ...  ...    ...  \n",
       "331561  4.14   46   22   50     98  \n",
       "331562   4.2   20   21   22     69  \n",
       "331563   5.3  164   37   39    123  \n",
       "331564  4.16   25   40   60     65  \n",
       "331565  4.42   55   27   24     45  \n",
       "\n",
       "[331564 rows x 15 columns]"
      ]
     },
     "execution_count": 37,
     "metadata": {},
     "output_type": "execute_result"
    }
   ],
   "source": [
    "df_coded"
   ]
  },
  {
   "cell_type": "code",
   "execution_count": 99,
   "metadata": {},
   "outputs": [],
   "source": [
    "cols=['Unique ID', 'Age', 'BCLOT', 'A/G RAT', 'DBIL', 'IBIL',\n",
    "       'TBIL', 'TGLO', 'TREP', 'ALB', 'GGT', 'SGOT', 'SGPT', 'ALKPO4']"
   ]
  },
  {
   "cell_type": "code",
   "execution_count": 100,
   "metadata": {},
   "outputs": [],
   "source": [
    "for col in cols:\n",
    "    df_info[col]= df_info[col].apply(pd.to_numeric)"
   ]
  },
  {
   "cell_type": "code",
   "execution_count": 22,
   "metadata": {},
   "outputs": [
    {
     "name": "stdout",
     "output_type": "stream",
     "text": [
      "BCLOTNormal Readings:42\n",
      "A/G RATNormal Readings:42\n",
      "DBILNormal Readings:81\n",
      "IBILNormal Readings:1387\n",
      "TBILNormal Readings:43\n",
      "TGLONormal Readings:42\n",
      "TREPNormal Readings:30\n",
      "ALBNormal Readings:49\n",
      "GGTNormal Readings:43\n",
      "SGOTNormal Readings:53\n",
      "SGPTNormal Readings:51\n",
      "ALKPO4Normal Readings:53\n"
     ]
    }
   ],
   "source": [
    "cols=['BCLOT', 'A/G RAT', 'DBIL', 'IBIL',\n",
    "       'TBIL', 'TGLO', 'TREP', 'ALB', 'GGT', 'SGOT', 'SGPT', 'ALKPO4']\n",
    "for col in cols:\n",
    "    print(col+'Normal Readings:'+str(df[col].value_counts()[0.0]))"
   ]
  },
  {
   "cell_type": "code",
   "execution_count": null,
   "metadata": {},
   "outputs": [],
   "source": []
  }
 ],
 "metadata": {
  "kernelspec": {
   "display_name": "base",
   "language": "python",
   "name": "python3"
  },
  "language_info": {
   "codemirror_mode": {
    "name": "ipython",
    "version": 3
   },
   "file_extension": ".py",
   "mimetype": "text/x-python",
   "name": "python",
   "nbconvert_exporter": "python",
   "pygments_lexer": "ipython3",
   "version": "3.10.9"
  },
  "orig_nbformat": 4
 },
 "nbformat": 4,
 "nbformat_minor": 2
}
